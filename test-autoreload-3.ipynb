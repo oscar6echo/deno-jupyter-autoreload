{
 "cells": [
  {
   "cell_type": "code",
   "execution_count": 1,
   "id": "accd661e-aa79-4393-b19d-11ca2d4a0810",
   "metadata": {},
   "outputs": [],
   "source": [
    "import {import2} from './util.ts'"
   ]
  },
  {
   "cell_type": "code",
   "execution_count": 2,
   "id": "5293c89d-f535-4b10-bab7-d4a7ab432910",
   "metadata": {},
   "outputs": [
    {
     "name": "stdout",
     "output_type": "stream",
     "text": [
      "current: 0\n"
     ]
    }
   ],
   "source": [
    "const m = await import2('./local/sample.ts')\n",
    "const c = new m.CalculatorV1()\n",
    "c.show()"
   ]
  },
  {
   "cell_type": "code",
   "execution_count": 3,
   "id": "9688cf68-6a99-4027-8278-e98d210833e2",
   "metadata": {},
   "outputs": [
    {
     "data": {
      "text/plain": [
       "\u001b[33m2\u001b[39m"
      ]
     },
     "execution_count": 3,
     "metadata": {},
     "output_type": "execute_result"
    }
   ],
   "source": [
    "c.add(2)"
   ]
  },
  {
   "cell_type": "code",
   "execution_count": 4,
   "id": "7625dc6a-16b7-45f7-a640-168ee59953ea",
   "metadata": {},
   "outputs": [
    {
     "data": {
      "text/plain": [
       "\u001b[33m6\u001b[39m"
      ]
     },
     "execution_count": 4,
     "metadata": {},
     "output_type": "execute_result"
    }
   ],
   "source": [
    "c.mul(3)"
   ]
  },
  {
   "cell_type": "code",
   "execution_count": 5,
   "id": "394d0212-b07a-4346-a155-78af3581f36e",
   "metadata": {},
   "outputs": [
    {
     "data": {
      "text/plain": [
       "\u001b[33m5\u001b[39m"
      ]
     },
     "execution_count": 5,
     "metadata": {},
     "output_type": "execute_result"
    }
   ],
   "source": [
    "c.sub(1)"
   ]
  },
  {
   "cell_type": "code",
   "execution_count": 6,
   "id": "56604e49-23fa-459d-80cb-63cbf3311705",
   "metadata": {},
   "outputs": [
    {
     "data": {
      "text/plain": [
       "\u001b[33m20\u001b[39m"
      ]
     },
     "execution_count": 6,
     "metadata": {},
     "output_type": "execute_result"
    }
   ],
   "source": [
    "c.custom(5)"
   ]
  },
  {
   "cell_type": "code",
   "execution_count": 7,
   "id": "eb573ebf-53f3-46f1-a5f8-1381f9197e9e",
   "metadata": {},
   "outputs": [
    {
     "data": {
      "text/plain": [
       "\u001b[33m30\u001b[39m"
      ]
     },
     "execution_count": 7,
     "metadata": {},
     "output_type": "execute_result"
    }
   ],
   "source": [
    "c.custom(0)"
   ]
  },
  {
   "cell_type": "code",
   "execution_count": null,
   "id": "bd69ea05-a427-4196-b153-4e52019e9d49",
   "metadata": {},
   "outputs": [],
   "source": []
  }
 ],
 "metadata": {
  "kernelspec": {
   "display_name": "Deno",
   "language": "typescript",
   "name": "deno"
  },
  "language_info": {
   "codemirror_mode": "typescript",
   "file_extension": ".ts",
   "mimetype": "text/x.typescript",
   "name": "typescript",
   "nbconvert_exporter": "script",
   "pygments_lexer": "typescript",
   "version": "5.5.2"
  }
 },
 "nbformat": 4,
 "nbformat_minor": 5
}
