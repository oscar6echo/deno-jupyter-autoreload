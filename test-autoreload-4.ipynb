{
 "cells": [
  {
   "cell_type": "code",
   "execution_count": 12,
   "id": "accd661e-aa79-4393-b19d-11ca2d4a0810",
   "metadata": {},
   "outputs": [],
   "source": [
    "import {import2} from './util.ts'"
   ]
  },
  {
   "cell_type": "code",
   "execution_count": 13,
   "id": "698734a5-733d-42c7-b4b5-31956ed8b261",
   "metadata": {},
   "outputs": [
    {
     "name": "stdout",
     "output_type": "stream",
     "text": [
      "current: 0\n"
     ]
    }
   ],
   "source": [
    "const m = await import2('./local/sample.ts')\n",
    "const c = new m.CalculatorV2()\n",
    "c.show()"
   ]
  },
  {
   "cell_type": "code",
   "execution_count": 14,
   "id": "9688cf68-6a99-4027-8278-e98d210833e2",
   "metadata": {},
   "outputs": [
    {
     "data": {
      "text/plain": [
       "\u001b[33m2\u001b[39m"
      ]
     },
     "execution_count": 14,
     "metadata": {},
     "output_type": "execute_result"
    }
   ],
   "source": [
    "c.add(2)"
   ]
  },
  {
   "cell_type": "code",
   "execution_count": 15,
   "id": "7625dc6a-16b7-45f7-a640-168ee59953ea",
   "metadata": {},
   "outputs": [
    {
     "data": {
      "text/plain": [
       "\u001b[33m6\u001b[39m"
      ]
     },
     "execution_count": 15,
     "metadata": {},
     "output_type": "execute_result"
    }
   ],
   "source": [
    "c.mul(3)"
   ]
  },
  {
   "cell_type": "code",
   "execution_count": 16,
   "id": "394d0212-b07a-4346-a155-78af3581f36e",
   "metadata": {},
   "outputs": [
    {
     "data": {
      "text/plain": [
       "\u001b[33m5\u001b[39m"
      ]
     },
     "execution_count": 16,
     "metadata": {},
     "output_type": "execute_result"
    }
   ],
   "source": [
    "c.sub(1)"
   ]
  },
  {
   "cell_type": "code",
   "execution_count": 17,
   "id": "56604e49-23fa-459d-80cb-63cbf3311705",
   "metadata": {},
   "outputs": [
    {
     "data": {
      "text/plain": [
       "\u001b[33m2.5\u001b[39m"
      ]
     },
     "execution_count": 17,
     "metadata": {},
     "output_type": "execute_result"
    }
   ],
   "source": [
    "c.div(2)"
   ]
  },
  {
   "cell_type": "code",
   "execution_count": 18,
   "id": "eb573ebf-53f3-46f1-a5f8-1381f9197e9e",
   "metadata": {},
   "outputs": [
    {
     "data": {
      "text/plain": [
       "\u001b[33m2.5\u001b[39m"
      ]
     },
     "execution_count": 18,
     "metadata": {},
     "output_type": "execute_result"
    }
   ],
   "source": [
    "c.custom(0)"
   ]
  },
  {
   "cell_type": "code",
   "execution_count": 19,
   "id": "24878c04-a596-4ff8-9201-f3762dc55775",
   "metadata": {},
   "outputs": [
    {
     "name": "stdout",
     "output_type": "stream",
     "text": [
      "(x, y)=>x + 1 + (y || 0)\n"
     ]
    },
    {
     "data": {
      "text/plain": [
       "\u001b[33m3.5\u001b[39m"
      ]
     },
     "execution_count": 19,
     "metadata": {},
     "output_type": "execute_result"
    }
   ],
   "source": [
    "const {customA} = await import2('./local/custom.ts')\n",
    "console.log(customA.toString())\n",
    "c.setCustom(customA)\n",
    "c.custom(0)"
   ]
  },
  {
   "cell_type": "code",
   "execution_count": 20,
   "id": "79e4be7d-9d97-414a-9e46-9365ca8af1e6",
   "metadata": {},
   "outputs": [
    {
     "name": "stdout",
     "output_type": "stream",
     "text": [
      "(x, y)=>x + 10 + (y || 0)\n"
     ]
    },
    {
     "data": {
      "text/plain": [
       "\u001b[33m13.5\u001b[39m"
      ]
     },
     "execution_count": 20,
     "metadata": {},
     "output_type": "execute_result"
    }
   ],
   "source": [
    "const {customB} = await import2('./local/custom.ts')\n",
    "console.log(customB.toString())\n",
    "c.setCustom(customB)\n",
    "c.custom(0)"
   ]
  },
  {
   "cell_type": "code",
   "execution_count": 21,
   "id": "b48813c8-b5a4-42e3-991b-6a97a26696b6",
   "metadata": {},
   "outputs": [
    {
     "name": "stdout",
     "output_type": "stream",
     "text": [
      "(x, y)=>x + 100 + (y || 0)\n"
     ]
    },
    {
     "data": {
      "text/plain": [
       "\u001b[33m113.5\u001b[39m"
      ]
     },
     "execution_count": 21,
     "metadata": {},
     "output_type": "execute_result"
    }
   ],
   "source": [
    "const {customC} = await import2('./local/custom.ts')\n",
    "console.log(customC.toString())\n",
    "c.setCustom(customC)\n",
    "c.custom(0)"
   ]
  },
  {
   "cell_type": "markdown",
   "id": "29f721e8-6780-406b-8a95-668a87481d57",
   "metadata": {},
   "source": [
    "**STOP !**  \n",
    "Edit `customC` to change it implementation then save `custom.ts`.  "
   ]
  },
  {
   "cell_type": "code",
   "execution_count": 22,
   "id": "85915c0f-fcc0-4bbe-82e6-79b9452088d8",
   "metadata": {},
   "outputs": [
    {
     "name": "stdout",
     "output_type": "stream",
     "text": [
      "(x, y)=>x + 1000 + (y || 0)\n"
     ]
    },
    {
     "data": {
      "text/plain": [
       "\u001b[33m1113.5\u001b[39m"
      ]
     },
     "execution_count": 22,
     "metadata": {},
     "output_type": "execute_result"
    }
   ],
   "source": [
    "const {customC} = await import2('./local/custom.ts')\n",
    "console.log(customC.toString())\n",
    "c.setCustom(customC)\n",
    "c.custom(0)"
   ]
  },
  {
   "cell_type": "code",
   "execution_count": null,
   "id": "98e67b82-68e9-4743-a9a5-f80dbfc56db3",
   "metadata": {},
   "outputs": [],
   "source": []
  },
  {
   "cell_type": "code",
   "execution_count": null,
   "id": "018187b5-eabf-47e5-b8fb-839a5bee7d67",
   "metadata": {},
   "outputs": [],
   "source": []
  }
 ],
 "metadata": {
  "kernelspec": {
   "display_name": "Deno",
   "language": "typescript",
   "name": "deno"
  },
  "language_info": {
   "codemirror_mode": "typescript",
   "file_extension": ".ts",
   "mimetype": "text/x.typescript",
   "name": "typescript",
   "nbconvert_exporter": "script",
   "pygments_lexer": "typescript",
   "version": "5.5.2"
  }
 },
 "nbformat": 4,
 "nbformat_minor": 5
}
