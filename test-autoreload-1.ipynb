{
 "cells": [
  {
   "cell_type": "code",
   "execution_count": 27,
   "id": "6ce7195c-a3ff-41cb-b862-df8d293afb26",
   "metadata": {},
   "outputs": [],
   "source": [
    "import {hello} from './local/sample.ts'"
   ]
  },
  {
   "cell_type": "code",
   "execution_count": 28,
   "id": "243e7705-624f-46fe-b615-c45b877506bb",
   "metadata": {},
   "outputs": [
    {
     "data": {
      "text/plain": [
       "\u001b[32m\"Bonjour Toto\"\u001b[39m"
      ]
     },
     "execution_count": 28,
     "metadata": {},
     "output_type": "execute_result"
    }
   ],
   "source": [
    "hello('toto')"
   ]
  },
  {
   "cell_type": "code",
   "execution_count": null,
   "id": "9688cf68-6a99-4027-8278-e98d210833e2",
   "metadata": {},
   "outputs": [],
   "source": []
  },
  {
   "cell_type": "code",
   "execution_count": 1,
   "id": "4857c2ff-843f-41cb-8599-263011a5c70d",
   "metadata": {},
   "outputs": [],
   "source": [
    "let i = 0"
   ]
  },
  {
   "cell_type": "code",
   "execution_count": 5,
   "id": "6a8b7dd9-f18e-49bc-8412-784d19f9d14b",
   "metadata": {},
   "outputs": [],
   "source": [
    "let m = await import(`./local/sample.ts#${i++}`);\n",
    "const hello = m.hello"
   ]
  },
  {
   "cell_type": "code",
   "execution_count": 6,
   "id": "079a56f6-ea28-4002-98ef-a1d953342a31",
   "metadata": {},
   "outputs": [
    {
     "data": {
      "text/plain": [
       "\u001b[32m\"Hello3 Toto\"\u001b[39m"
      ]
     },
     "execution_count": 6,
     "metadata": {},
     "output_type": "execute_result"
    }
   ],
   "source": [
    "hello('toto')"
   ]
  },
  {
   "cell_type": "code",
   "execution_count": null,
   "id": "f54a7554-bc6b-4f7f-8d9d-d53ea7764b73",
   "metadata": {},
   "outputs": [],
   "source": []
  },
  {
   "cell_type": "code",
   "execution_count": 10,
   "id": "861bd4c0-3b17-478d-b850-574bbdf3014b",
   "metadata": {},
   "outputs": [],
   "source": [
    "const {hello} = await import(`./local/sample.ts#${i++}`);"
   ]
  },
  {
   "cell_type": "code",
   "execution_count": 11,
   "id": "75340b51-52a9-4056-b2c4-1ffdc4879cc5",
   "metadata": {},
   "outputs": [
    {
     "data": {
      "text/plain": [
       "\u001b[32m\"Hello4 Toto\"\u001b[39m"
      ]
     },
     "execution_count": 11,
     "metadata": {},
     "output_type": "execute_result"
    }
   ],
   "source": [
    "hello('toto')"
   ]
  },
  {
   "cell_type": "code",
   "execution_count": null,
   "id": "7625dc6a-16b7-45f7-a640-168ee59953ea",
   "metadata": {},
   "outputs": [],
   "source": []
  },
  {
   "cell_type": "code",
   "execution_count": null,
   "id": "394d0212-b07a-4346-a155-78af3581f36e",
   "metadata": {},
   "outputs": [],
   "source": []
  }
 ],
 "metadata": {
  "kernelspec": {
   "display_name": "Deno",
   "language": "typescript",
   "name": "deno"
  },
  "language_info": {
   "codemirror_mode": "typescript",
   "file_extension": ".ts",
   "mimetype": "text/x.typescript",
   "name": "typescript",
   "nbconvert_exporter": "script",
   "pygments_lexer": "typescript",
   "version": "5.5.2"
  }
 },
 "nbformat": 4,
 "nbformat_minor": 5
}
