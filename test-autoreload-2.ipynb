{
 "cells": [
  {
   "cell_type": "code",
   "execution_count": 1,
   "id": "accd661e-aa79-4393-b19d-11ca2d4a0810",
   "metadata": {},
   "outputs": [],
   "source": [
    "import {import2} from './util.ts'"
   ]
  },
  {
   "cell_type": "code",
   "execution_count": 3,
   "id": "5293c89d-f535-4b10-bab7-d4a7ab432910",
   "metadata": {},
   "outputs": [
    {
     "data": {
      "text/plain": [
       "\u001b[32m\"Hello Toto\"\u001b[39m"
      ]
     },
     "execution_count": 3,
     "metadata": {},
     "output_type": "execute_result"
    }
   ],
   "source": [
    "const m = await import2('./local/sample.ts')\n",
    "m.hello('toto')"
   ]
  },
  {
   "cell_type": "code",
   "execution_count": 4,
   "id": "9688cf68-6a99-4027-8278-e98d210833e2",
   "metadata": {},
   "outputs": [
    {
     "data": {
      "text/plain": [
       "\u001b[32m\"Bonjour Toto\"\u001b[39m"
      ]
     },
     "execution_count": 4,
     "metadata": {},
     "output_type": "execute_result"
    }
   ],
   "source": [
    "const m = await import2('./local/sample.ts')\n",
    "m.hello('toto')"
   ]
  },
  {
   "cell_type": "code",
   "execution_count": null,
   "id": "7625dc6a-16b7-45f7-a640-168ee59953ea",
   "metadata": {},
   "outputs": [],
   "source": []
  },
  {
   "cell_type": "code",
   "execution_count": null,
   "id": "394d0212-b07a-4346-a155-78af3581f36e",
   "metadata": {},
   "outputs": [],
   "source": []
  }
 ],
 "metadata": {
  "kernelspec": {
   "display_name": "Deno",
   "language": "typescript",
   "name": "deno"
  },
  "language_info": {
   "codemirror_mode": "typescript",
   "file_extension": ".ts",
   "mimetype": "text/x.typescript",
   "name": "typescript",
   "nbconvert_exporter": "script",
   "pygments_lexer": "typescript",
   "version": "5.5.2"
  }
 },
 "nbformat": 4,
 "nbformat_minor": 5
}
